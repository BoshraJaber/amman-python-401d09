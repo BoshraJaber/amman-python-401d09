{
 "cells": [
  {
   "cell_type": "markdown",
   "metadata": {},
   "source": [
    "# Files"
   ]
  },
  {
   "cell_type": "markdown",
   "metadata": {},
   "source": [
    "place that you can write your data in it \n",
    "read data/store data in it by writing to it\n"
   ]
  },
  {
   "cell_type": "code",
   "execution_count": 15,
   "metadata": {},
   "outputs": [
    {
     "name": "stdout",
     "output_type": "stream",
     "text": [
      "<_io.TextIOWrapper name='assets/spam.txt' mode='r' encoding='UTF-8'>\n"
     ]
    }
   ],
   "source": [
    "file = open('assets/spam.txt')\n",
    "print(file)"
   ]
  },
  {
   "cell_type": "code",
   "execution_count": 16,
   "metadata": {},
   "outputs": [
    {
     "name": "stdout",
     "output_type": "stream",
     "text": [
      "spam in here and\n",
      "but also some eggs and ham.\n",
      "do you like spam?\n",
      "yes i do\n"
     ]
    }
   ],
   "source": [
    "content= file.read()\n",
    "print(content)"
   ]
  },
  {
   "cell_type": "code",
   "execution_count": 17,
   "metadata": {},
   "outputs": [
    {
     "name": "stdout",
     "output_type": "stream",
     "text": [
      "is the file closed ?  False\n"
     ]
    }
   ],
   "source": [
    "# file.close()\n",
    "print('is the file closed ? ', file.closed)"
   ]
  },
  {
   "cell_type": "markdown",
   "metadata": {},
   "source": [
    "with will automatically close the file for me "
   ]
  },
  {
   "cell_type": "code",
   "execution_count": 23,
   "metadata": {},
   "outputs": [
    {
     "name": "stdout",
     "output_type": "stream",
     "text": [
      "spam in here and\n",
      "but also some eggs and ham.\n",
      "do you like spam?\n",
      "yes i do\n",
      "is the file closed ?  False\n",
      "is the file closed ?  True\n"
     ]
    }
   ],
   "source": [
    "with open('assets/spam.txt') as file:\n",
    "    content = file.read()\n",
    "    print(content)\n",
    "    # file.close()\n",
    "    print('is the file closed ? ', file.closed)\n",
    "\n",
    "print('is the file closed ? ', file.closed)\n"
   ]
  },
  {
   "cell_type": "code",
   "execution_count": 31,
   "metadata": {},
   "outputs": [
    {
     "ename": "AttributeError",
     "evalue": "'_io.BufferedWriter' object has no attribute 'append'",
     "output_type": "error",
     "traceback": [
      "\u001b[0;31m---------------------------------------------------------------------------\u001b[0m",
      "\u001b[0;31mAttributeError\u001b[0m                            Traceback (most recent call last)",
      "\u001b[1;32m/home/rania/pythonMH02/lecture03/exceptions/fileIO.ipynb Cell 8'\u001b[0m in \u001b[0;36m<cell line: 10>\u001b[0;34m()\u001b[0m\n\u001b[1;32m      <a href='vscode-notebook-cell://wsl%2Bubuntu/home/rania/pythonMH02/lecture03/exceptions/fileIO.ipynb#ch0000007vscode-remote?line=7'>8</a>\u001b[0m     f2\u001b[39m.\u001b[39mwrite(content)\n\u001b[1;32m     <a href='vscode-notebook-cell://wsl%2Bubuntu/home/rania/pythonMH02/lecture03/exceptions/fileIO.ipynb#ch0000007vscode-remote?line=9'>10</a>\u001b[0m \u001b[39mwith\u001b[39;00m \u001b[39mopen\u001b[39m(\u001b[39m'\u001b[39m\u001b[39massets/cc.copy.jpg\u001b[39m\u001b[39m'\u001b[39m, \u001b[39m'\u001b[39m\u001b[39mab\u001b[39m\u001b[39m'\u001b[39m) \u001b[39mas\u001b[39;00m f3 :\n\u001b[0;32m---> <a href='vscode-notebook-cell://wsl%2Bubuntu/home/rania/pythonMH02/lecture03/exceptions/fileIO.ipynb#ch0000007vscode-remote?line=10'>11</a>\u001b[0m     f3\u001b[39m.\u001b[39;49mappend(content)\n",
      "\u001b[0;31mAttributeError\u001b[0m: '_io.BufferedWriter' object has no attribute 'append'"
     ]
    }
   ],
   "source": [
    "with open('assets/cc.jpg', 'rb') as f:\n",
    "    content = f.read()\n",
    "\n",
    "# for x in content[:8] :\n",
    "#     print(content) \n",
    "\n",
    "with open('assets/cc.copy.jpg', 'wb') as f2 :\n",
    "    f2.write(content)\n",
    "\n",
    "with open('assets/cc.copy.jpg', 'ab') as f3 :\n",
    "    f3.append(content)"
   ]
  }
 ],
 "metadata": {
  "interpreter": {
   "hash": "e463d4507d294650ecd3dcb45b8d0e22945e7617ed47139de19af981b9edd7d0"
  },
  "kernelspec": {
   "display_name": "Python 3.9.5 64-bit ('3.9.5')",
   "language": "python",
   "name": "python3"
  },
  "language_info": {
   "codemirror_mode": {
    "name": "ipython",
    "version": 3
   },
   "file_extension": ".py",
   "mimetype": "text/x-python",
   "name": "python",
   "nbconvert_exporter": "python",
   "pygments_lexer": "ipython3",
   "version": "3.9.5"
  },
  "orig_nbformat": 4
 },
 "nbformat": 4,
 "nbformat_minor": 2
}
