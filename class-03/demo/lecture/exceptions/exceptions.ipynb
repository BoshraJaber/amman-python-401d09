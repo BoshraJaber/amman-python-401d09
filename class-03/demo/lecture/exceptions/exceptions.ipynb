{
 "cells": [
  {
   "cell_type": "code",
   "execution_count": 4,
   "metadata": {},
   "outputs": [
    {
     "name": "stdout",
     "output_type": "stream",
     "text": [
      "Hello Everyone\n"
     ]
    }
   ],
   "source": [
    "print(\"Hello Everyone\")"
   ]
  },
  {
   "cell_type": "markdown",
   "metadata": {},
   "source": [
    "# Exception "
   ]
  },
  {
   "cell_type": "markdown",
   "metadata": {},
   "source": [
    "no syntax error\n"
   ]
  },
  {
   "cell_type": "code",
   "execution_count": 5,
   "metadata": {},
   "outputs": [
    {
     "ename": "SyntaxError",
     "evalue": "unmatched ')' (3501962142.py, line 1)",
     "output_type": "error",
     "traceback": [
      "\u001b[0;36m  Input \u001b[0;32mIn [5]\u001b[0;36m\u001b[0m\n\u001b[0;31m    print(\"Hello Everyone\"))\u001b[0m\n\u001b[0m                           ^\u001b[0m\n\u001b[0;31mSyntaxError\u001b[0m\u001b[0;31m:\u001b[0m unmatched ')'\n"
     ]
    }
   ],
   "source": [
    "print(\"Hello Everyone\"))"
   ]
  },
  {
   "cell_type": "code",
   "execution_count": 6,
   "metadata": {},
   "outputs": [
    {
     "ename": "ZeroDivisionError",
     "evalue": "division by zero",
     "output_type": "error",
     "traceback": [
      "\u001b[0;31m---------------------------------------------------------------------------\u001b[0m",
      "\u001b[0;31mZeroDivisionError\u001b[0m                         Traceback (most recent call last)",
      "\u001b[1;32m/home/rania/pythonMH02/lecture03/exceptions/exceptions/exceptions.ipynb Cell 5'\u001b[0m in \u001b[0;36m<cell line: 1>\u001b[0;34m()\u001b[0m\n\u001b[0;32m----> <a href='vscode-notebook-cell://wsl%2Bubuntu/home/rania/pythonMH02/lecture03/exceptions/exceptions/exceptions.ipynb#ch0000005vscode-remote?line=0'>1</a>\u001b[0m \u001b[39mprint\u001b[39m(\u001b[39m1\u001b[39;49m\u001b[39m/\u001b[39;49m\u001b[39m0\u001b[39;49m)\n",
      "\u001b[0;31mZeroDivisionError\u001b[0m: division by zero"
     ]
    }
   ],
   "source": [
    "print(1/0)"
   ]
  },
  {
   "cell_type": "code",
   "execution_count": 11,
   "metadata": {},
   "outputs": [
    {
     "ename": "ZeroDivisionError",
     "evalue": "division by zero",
     "output_type": "error",
     "traceback": [
      "\u001b[0;31m---------------------------------------------------------------------------\u001b[0m",
      "\u001b[0;31mZeroDivisionError\u001b[0m                         Traceback (most recent call last)",
      "\u001b[1;32m/home/rania/pythonMH02/lecture03/exceptions/exceptions/exceptions.ipynb Cell 6'\u001b[0m in \u001b[0;36m<cell line: 2>\u001b[0;34m()\u001b[0m\n\u001b[1;32m      <a href='vscode-notebook-cell://wsl%2Bubuntu/home/rania/pythonMH02/lecture03/exceptions/exceptions/exceptions.ipynb#ch0000006vscode-remote?line=0'>1</a>\u001b[0m user_inuput\u001b[39m=\u001b[39m \u001b[39mint\u001b[39m(\u001b[39minput\u001b[39m(\u001b[39m\"\u001b[39m\u001b[39mEnter a number: \u001b[39m\u001b[39m\"\u001b[39m))\n\u001b[0;32m----> <a href='vscode-notebook-cell://wsl%2Bubuntu/home/rania/pythonMH02/lecture03/exceptions/exceptions/exceptions.ipynb#ch0000006vscode-remote?line=1'>2</a>\u001b[0m value \u001b[39m=\u001b[39m \u001b[39m1\u001b[39;49m\u001b[39m/\u001b[39;49muser_inuput\n\u001b[1;32m      <a href='vscode-notebook-cell://wsl%2Bubuntu/home/rania/pythonMH02/lecture03/exceptions/exceptions/exceptions.ipynb#ch0000006vscode-remote?line=2'>3</a>\u001b[0m \u001b[39mprint\u001b[39m(value)\n\u001b[1;32m      <a href='vscode-notebook-cell://wsl%2Bubuntu/home/rania/pythonMH02/lecture03/exceptions/exceptions/exceptions.ipynb#ch0000006vscode-remote?line=4'>5</a>\u001b[0m \u001b[39mprint\u001b[39m(\u001b[39m\"\u001b[39m\u001b[39mthe end of my code\u001b[39m\u001b[39m\"\u001b[39m)\n",
      "\u001b[0;31mZeroDivisionError\u001b[0m: division by zero"
     ]
    }
   ],
   "source": [
    "user_inuput= int(input(\"Enter a number: \"))\n",
    "value = 1/user_inuput\n",
    "print(value)\n",
    "\n",
    "print(\"the end of my code\")"
   ]
  },
  {
   "cell_type": "code",
   "execution_count": 33,
   "metadata": {},
   "outputs": [
    {
     "name": "stdout",
     "output_type": "stream",
     "text": [
      "12\n",
      "0.08333333333333333\n",
      "my code does not have any error \n",
      "the end of my code\n"
     ]
    }
   ],
   "source": [
    "try:\n",
    "    user_inuput= int(input(\"Enter a number: \"))\n",
    "    print(user_inuput)\n",
    "    value = 1/user_inuput\n",
    "    print(value)\n",
    "\n",
    "\n",
    "except ZeroDivisionError as err :\n",
    "    print(\"don't Enter zero !\")\n",
    "    print(f\"the error message is {err}\")\n",
    "\n",
    "except ValueError :\n",
    "    print(\"Enter a valid number\")\n",
    "\n",
    "else:\n",
    "    print(\"my code does not have any error \")   \n",
    "finally:\n",
    "\n",
    "    print(\"the end of my code\")"
   ]
  },
  {
   "cell_type": "code",
   "execution_count": 24,
   "metadata": {},
   "outputs": [
    {
     "name": "stdout",
     "output_type": "stream",
     "text": [
      "0\n",
      "division by zero\n",
      "this is \n"
     ]
    }
   ],
   "source": [
    "\n",
    "try : \n",
    "    user_inuput= int(input(\"Enter a number: \"))\n",
    "    print(user_inuput)\n",
    "    value = 1/user_inuput\n",
    "    print(value)\n",
    "except Exception as err: \n",
    "    print(err)\n",
    "\n",
    "print(\"this is \")\n",
    "\n"
   ]
  },
  {
   "cell_type": "code",
   "execution_count": 32,
   "metadata": {},
   "outputs": [
    {
     "name": "stdout",
     "output_type": "stream",
     "text": [
      "Hello from class\n",
      "Hello from class\n",
      "Hello from class\n",
      "Hello from class\n"
     ]
    },
    {
     "ename": "ValueError",
     "evalue": "Age cannot be negative",
     "output_type": "error",
     "traceback": [
      "\u001b[0;31m---------------------------------------------------------------------------\u001b[0m",
      "\u001b[0;31mValueError\u001b[0m                                Traceback (most recent call last)",
      "\u001b[1;32m/home/rania/pythonMH02/lecture03/exceptions/exceptions/exceptions.ipynb Cell 9'\u001b[0m in \u001b[0;36m<cell line: 1>\u001b[0;34m()\u001b[0m\n\u001b[1;32m      <a href='vscode-notebook-cell://wsl%2Bubuntu/home/rania/pythonMH02/lecture03/exceptions/exceptions/exceptions.ipynb#ch0000010vscode-remote?line=2'>3</a>\u001b[0m age \u001b[39m=\u001b[39m \u001b[39mint\u001b[39m(\u001b[39minput\u001b[39m(\u001b[39m\"\u001b[39m\u001b[39mEnter your age: \u001b[39m\u001b[39m\"\u001b[39m))\n\u001b[1;32m      <a href='vscode-notebook-cell://wsl%2Bubuntu/home/rania/pythonMH02/lecture03/exceptions/exceptions/exceptions.ipynb#ch0000010vscode-remote?line=3'>4</a>\u001b[0m \u001b[39mif\u001b[39;00m age\u001b[39m<\u001b[39m\u001b[39m0\u001b[39m:\n\u001b[0;32m----> <a href='vscode-notebook-cell://wsl%2Bubuntu/home/rania/pythonMH02/lecture03/exceptions/exceptions/exceptions.ipynb#ch0000010vscode-remote?line=4'>5</a>\u001b[0m     \u001b[39mraise\u001b[39;00m \u001b[39mValueError\u001b[39;00m(\u001b[39m\"\u001b[39m\u001b[39mAge cannot be negative\u001b[39m\u001b[39m\"\u001b[39m)\n\u001b[1;32m      <a href='vscode-notebook-cell://wsl%2Bubuntu/home/rania/pythonMH02/lecture03/exceptions/exceptions/exceptions.ipynb#ch0000010vscode-remote?line=5'>6</a>\u001b[0m \u001b[39mif\u001b[39;00m age \u001b[39m==\u001b[39m\u001b[39m0\u001b[39m:\n\u001b[1;32m      <a href='vscode-notebook-cell://wsl%2Bubuntu/home/rania/pythonMH02/lecture03/exceptions/exceptions/exceptions.ipynb#ch0000010vscode-remote?line=6'>7</a>\u001b[0m      \u001b[39mraise\u001b[39;00m \u001b[39mValueError\u001b[39;00m(\u001b[39m\"\u001b[39m\u001b[39mAge cannot be zero\u001b[39m\u001b[39m\"\u001b[39m)\n",
      "\u001b[0;31mValueError\u001b[0m: Age cannot be negative"
     ]
    }
   ],
   "source": [
    "try : \n",
    "\n",
    "    age = int(input(\"Enter your age: \"))\n",
    "    if age<0:\n",
    "        raise ValueError(\"Age cannot be negative\")\n",
    "    if age ==0:\n",
    "         raise ValueError(\"Age cannot be zero\")\n",
    "    \n",
    "except ValueError as err:\n",
    "    print(f\"Oh no {err}\")\n",
    "finally : \n",
    "\n",
    "    print(\"Hello from class\")   \n",
    "    print(\"Hello from class\")   \n",
    "    print(\"Hello from class\")   \n",
    "    print(\"Hello from class\")    "
   ]
  }
 ],
 "metadata": {
  "interpreter": {
   "hash": "e463d4507d294650ecd3dcb45b8d0e22945e7617ed47139de19af981b9edd7d0"
  },
  "kernelspec": {
   "display_name": "Python 3.9.5 64-bit ('3.9.5')",
   "language": "python",
   "name": "python3"
  },
  "language_info": {
   "codemirror_mode": {
    "name": "ipython",
    "version": 3
   },
   "file_extension": ".py",
   "mimetype": "text/x-python",
   "name": "python",
   "nbconvert_exporter": "python",
   "pygments_lexer": "ipython3",
   "version": "3.9.5"
  },
  "orig_nbformat": 4
 },
 "nbformat": 4,
 "nbformat_minor": 2
}
